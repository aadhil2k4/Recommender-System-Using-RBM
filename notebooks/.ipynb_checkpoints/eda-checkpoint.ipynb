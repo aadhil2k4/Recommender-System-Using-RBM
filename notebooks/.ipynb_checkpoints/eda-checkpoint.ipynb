{
 "cells": [
  {
   "cell_type": "code",
   "execution_count": 3,
   "id": "e202b0c5-1082-45f5-a777-e985c49d38c9",
   "metadata": {},
   "outputs": [],
   "source": [
    "import pandas as pd\n",
    "import numpy as np\n",
    "from pathlib import Path\n",
    "from scipy import sparse\n",
    "from sklearn.model_selection import train_test_split"
   ]
  },
  {
   "cell_type": "code",
   "execution_count": 5,
   "id": "32c02a2f-eea3-4bab-bdb0-1a02443cd180",
   "metadata": {},
   "outputs": [],
   "source": [
    "RAW_DIR = Path(\"data/raw/ml-1m\")\n",
    "PROCESSED_DIR = Path(\"data/processed\")"
   ]
  },
  {
   "cell_type": "code",
   "execution_count": 7,
   "id": "88ab6834-8a5c-4df3-a70c-3c6f61a29223",
   "metadata": {},
   "outputs": [],
   "source": [
    "ratings = pd.read_csv(RAW_DIR/'ratings.dat',\n",
    "                     sep='::',\n",
    "                     engine='python',\n",
    "                     names=['userId', 'movieId', 'rating', 'timestamp'])"
   ]
  },
  {
   "cell_type": "code",
   "execution_count": 8,
   "id": "70c45588-113f-4528-9c91-20a3d6d450c3",
   "metadata": {},
   "outputs": [],
   "source": [
    "movies = pd.read_csv(RAW_DIR/'movies.dat',\n",
    "                    sep='::',\n",
    "                    engine='python',\n",
    "                    names=['movieId', 'title', 'genres'],\n",
    "                    encoding='latin-1')"
   ]
  },
  {
   "cell_type": "code",
   "execution_count": 9,
   "id": "bd5d6803-de5d-4d95-bc97-0ec903a502f4",
   "metadata": {},
   "outputs": [
    {
     "name": "stdout",
     "output_type": "stream",
     "text": [
      "Ratings shape:  (1000209, 4)\n",
      "Movies shape  (3883, 3)\n"
     ]
    }
   ],
   "source": [
    "print(\"Ratings shape: \", ratings.shape)\n",
    "print(\"Movies shape \", movies.shape)"
   ]
  },
  {
   "cell_type": "code",
   "execution_count": 10,
   "id": "8d34905e-ef52-420d-9c1b-46529e28b22c",
   "metadata": {},
   "outputs": [],
   "source": [
    "userId_map = {uid: i for i, uid in enumerate(ratings[\"userId\"].unique())}\n",
    "movieId_map = {mid: i for i, mid in enumerate(ratings[\"movieId\"].unique())}"
   ]
  },
  {
   "cell_type": "code",
   "execution_count": 11,
   "id": "634c617f-9181-4db4-8aaa-c497d9b6a727",
   "metadata": {},
   "outputs": [],
   "source": [
    "ratings[\"user_idx\"] = ratings[\"userId\"].map(userId_map)\n",
    "ratings[\"movie_idx\"] = ratings[\"movieId\"].map(movieId_map)"
   ]
  },
  {
   "cell_type": "code",
   "execution_count": 13,
   "id": "8ed427a3-00d0-4a88-96cf-655fa4ba3060",
   "metadata": {},
   "outputs": [],
   "source": [
    "num_users = len(userId_map)\n",
    "num_movies = len(movieId_map)"
   ]
  },
  {
   "cell_type": "code",
   "execution_count": 14,
   "id": "27cb301f-47cb-41c5-a78b-bc365af51295",
   "metadata": {},
   "outputs": [
    {
     "name": "stdout",
     "output_type": "stream",
     "text": [
      "Users: 6040, Movies: 3706\n"
     ]
    }
   ],
   "source": [
    "print(f\"Users: {num_users}, Movies: {num_movies}\")"
   ]
  },
  {
   "cell_type": "code",
   "execution_count": 15,
   "id": "7f98e022-5c63-42eb-a90a-7be1737188c4",
   "metadata": {},
   "outputs": [],
   "source": [
    "rating_matrix = sparse.lil_matrix((num_users, num_movies))"
   ]
  },
  {
   "cell_type": "code",
   "execution_count": 16,
   "id": "18dcf091-3831-4803-8b85-c91696cd27d7",
   "metadata": {},
   "outputs": [],
   "source": [
    "for row in ratings.itertuples():\n",
    "    rating_matrix[row.user_idx, row.movie_idx] = row.rating"
   ]
  },
  {
   "cell_type": "code",
   "execution_count": 17,
   "id": "4d0003a7-b3b8-4538-9719-1b2e5cdb7c4c",
   "metadata": {},
   "outputs": [],
   "source": [
    "binary_matrix = (rating_matrix >= 4).astype(np.float32)"
   ]
  },
  {
   "cell_type": "code",
   "execution_count": 19,
   "id": "95f0e020-ca43-4cd5-a2ce-3d201cf64b74",
   "metadata": {},
   "outputs": [],
   "source": [
    "sparse.save_npz(PROCESSED_DIR / \"userItem_ratings.npz\", rating_matrix.tocsr())\n",
    "sparse.save_npz(PROCESSED_DIR / \"userItem_binary.npz\", binary_matrix.tocsr())"
   ]
  },
  {
   "cell_type": "code",
   "execution_count": 20,
   "id": "f5d8d01f-b1e6-45d9-ac6f-a0b774bca2f2",
   "metadata": {},
   "outputs": [],
   "source": [
    "train_data = []\n",
    "test_data = []"
   ]
  },
  {
   "cell_type": "code",
   "execution_count": 21,
   "id": "16f84090-4a7d-4290-987f-680a14014350",
   "metadata": {},
   "outputs": [],
   "source": [
    "for u in range(num_users):\n",
    "    user_ratings = ratings[ratings[\"user_idx\"] == u]\n",
    "    if len(user_ratings) < 5:\n",
    "        train_data.append(user_ratings)\n",
    "        continue\n",
    "    train, test = train_test_split(user_ratings, test_size=0.2, random_state=42)\n",
    "    train_data.append(train)\n",
    "    test_data.append(test)"
   ]
  },
  {
   "cell_type": "code",
   "execution_count": 22,
   "id": "cfda06c7-f4ab-4fca-afde-248abf0d4269",
   "metadata": {},
   "outputs": [],
   "source": [
    "train_ratings = pd.concat(train_data)\n",
    "test_ratings = pd.concat(test_data)"
   ]
  },
  {
   "cell_type": "code",
   "execution_count": 23,
   "id": "a4ae7ad5-014e-4ba2-89b5-efd66a9d076d",
   "metadata": {},
   "outputs": [],
   "source": [
    "train_ratings.to_csv(PROCESSED_DIR / \"train_ratings.csv\", index=False)\n",
    "test_ratings.to_csv(PROCESSED_DIR / \"test_ratings.csv\", index=False)"
   ]
  },
  {
   "cell_type": "code",
   "execution_count": 24,
   "id": "a14b2d60-5782-47e1-99ee-1f760e4d85b6",
   "metadata": {},
   "outputs": [
    {
     "name": "stdout",
     "output_type": "stream",
     "text": [
      "Train shape: (797758, 6) Test shape: (202451, 6)\n"
     ]
    }
   ],
   "source": [
    "print(\"Train shape:\", train_ratings.shape, \"Test shape:\", test_ratings.shape)"
   ]
  },
  {
   "cell_type": "code",
   "execution_count": 26,
   "id": "e352e87b-c8ce-4e9e-bb24-0a42dcfe2ed1",
   "metadata": {},
   "outputs": [],
   "source": [
    "movie_map = movies[[\"movieId\", \"title\"]].copy()\n",
    "movie_map[\"movie_idx\"] = movie_map[\"movieId\"].map(movieId_map)\n",
    "movie_map.to_csv(PROCESSED_DIR / \"movie_mapping.csv\", index=False)"
   ]
  },
  {
   "cell_type": "code",
   "execution_count": null,
   "id": "7fa4708e-5dbc-4dc1-b5c7-14ff52e1c257",
   "metadata": {},
   "outputs": [],
   "source": []
  }
 ],
 "metadata": {
  "kernelspec": {
   "display_name": "Python 3 (ipykernel)",
   "language": "python",
   "name": "python3"
  },
  "language_info": {
   "codemirror_mode": {
    "name": "ipython",
    "version": 3
   },
   "file_extension": ".py",
   "mimetype": "text/x-python",
   "name": "python",
   "nbconvert_exporter": "python",
   "pygments_lexer": "ipython3",
   "version": "3.11.7"
  }
 },
 "nbformat": 4,
 "nbformat_minor": 5
}
